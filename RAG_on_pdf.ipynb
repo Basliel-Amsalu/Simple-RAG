{
 "cells": [
  {
   "cell_type": "code",
   "execution_count": null,
   "metadata": {},
   "outputs": [],
   "source": [
    "import os\n",
    "import requests\n",
    "\n",
    "# Get PDF document path\n",
    "pdf_path = \"In_human_anat_final.pdf\""
   ]
  },
  {
   "cell_type": "code",
   "execution_count": 32,
   "metadata": {},
   "outputs": [
    {
     "data": {
      "application/vnd.jupyter.widget-view+json": {
       "model_id": "6177e732dfed42c2a2c6e687db0f9d70",
       "version_major": 2,
       "version_minor": 0
      },
      "text/plain": [
       "0it [00:00, ?it/s]"
      ]
     },
     "metadata": {},
     "output_type": "display_data"
    },
    {
     "data": {
      "text/plain": [
       "[{'page_number': -10,\n",
       "  'page_char_count': 333,\n",
       "  'page_word_count': 84,\n",
       "  'page_setence_count_raw': 1,\n",
       "  'page_token_count': 83.25,\n",
       "  'text': 'LECTURE NOTES    For Nursing Students           Human Anatomy  and Physiology                  Nega Assefa  Alemaya University  Yosief Tsige  Jimma University      In collaboration with the Ethiopia Public Health Training Initiative, The Carter Center,  the Ethiopia Ministry of Health, and the Ethiopia Ministry of Education    2003'},\n",
       " {'page_number': -9,\n",
       "  'page_char_count': 1267,\n",
       "  'page_word_count': 234,\n",
       "  'page_setence_count_raw': 9,\n",
       "  'page_token_count': 316.75,\n",
       "  'text': 'Funded under USAID Cooperative Agreement No. 663-A-00-00-0358-00.      Produced in collaboration with the Ethiopia Public Health Training Initiative, The Carter  Center, the Ethiopia Ministry of Health, and the Ethiopia Ministry of Education.                  Important Guidelines for Printing and Photocopying  Limited permission is granted free of charge to print or photocopy all pages of this  publication for educational, not-for-profit use by health care workers, students or  faculty. All copies must retain all author credits and copyright notices included in the  original document. Under no circumstances is it permissible to sell or distribute on a  commercial basis, or to claim authorship of, copies of material reproduced from this  publication.     ©2003 by Nega Assefa and Yosief Tsige    All rights reserved. Except as expressly provided above, no part of this publication may  be reproduced or transmitted in any form or by any means, electronic or mechanical,  including photocopying, recording, or by any information storage and retrieval system,  without written permission of the author or authors.              This material is intended for educational use only by practicing health care workers or  students and faculty in a health care field.'}]"
      ]
     },
     "execution_count": 32,
     "metadata": {},
     "output_type": "execute_result"
    }
   ],
   "source": [
    "import fitz\n",
    "from tqdm.auto import tqdm\n",
    "\n",
    "pdf_path = \"ln_human_anat_final.pdf\"\n",
    "\n",
    "def text_formatter(text: str) -> str: \n",
    "    \"\"\"Performs minor formatting on text.\"\"\"\n",
    "    cleaned_text = text.replace(\"\\n\", \" \").strip()\n",
    "\n",
    "    # Potentially more text formatting functions can go here\n",
    "    return cleaned_text\n",
    "\n",
    "def open_and_read_pdf(pdf_path: str) -> list[dict]:\n",
    "    doc = fitz.open(pdf_path)\n",
    "    pages_and_texts = [] \n",
    "    for page_number, page in tqdm(enumerate(doc)):\n",
    "        text = page.get_text()\n",
    "        text = text_formatter(text=text)\n",
    "        pages_and_texts.append({\"page_number\": page_number-10,\n",
    "                                \"page_char_count\": len(text),\n",
    "                                \"page_word_count\": len(text.split(\" \")),\n",
    "                                \"page_setence_count_raw\": len(text.split(\". \")),\n",
    "                                \"page_token_count\": len(text) / 4, # 1 token = ~4 characters\n",
    "                                \"text\": text})\n",
    "    return pages_and_texts\n",
    "\n",
    "pages_and_texts = open_and_read_pdf(pdf_path=pdf_path)\n",
    "pages_and_texts[:2]"
   ]
  },
  {
   "cell_type": "code",
   "execution_count": 33,
   "metadata": {},
   "outputs": [
    {
     "data": {
      "text/html": [
       "<div>\n",
       "<style scoped>\n",
       "    .dataframe tbody tr th:only-of-type {\n",
       "        vertical-align: middle;\n",
       "    }\n",
       "\n",
       "    .dataframe tbody tr th {\n",
       "        vertical-align: top;\n",
       "    }\n",
       "\n",
       "    .dataframe thead th {\n",
       "        text-align: right;\n",
       "    }\n",
       "</style>\n",
       "<table border=\"1\" class=\"dataframe\">\n",
       "  <thead>\n",
       "    <tr style=\"text-align: right;\">\n",
       "      <th></th>\n",
       "      <th>page_number</th>\n",
       "      <th>page_char_count</th>\n",
       "      <th>page_word_count</th>\n",
       "      <th>page_setence_count_raw</th>\n",
       "      <th>page_token_count</th>\n",
       "      <th>text</th>\n",
       "    </tr>\n",
       "  </thead>\n",
       "  <tbody>\n",
       "    <tr>\n",
       "      <th>0</th>\n",
       "      <td>-10</td>\n",
       "      <td>333</td>\n",
       "      <td>84</td>\n",
       "      <td>1</td>\n",
       "      <td>83.25</td>\n",
       "      <td>LECTURE NOTES    For Nursing Students         ...</td>\n",
       "    </tr>\n",
       "    <tr>\n",
       "      <th>1</th>\n",
       "      <td>-9</td>\n",
       "      <td>1267</td>\n",
       "      <td>234</td>\n",
       "      <td>9</td>\n",
       "      <td>316.75</td>\n",
       "      <td>Funded under USAID Cooperative Agreement No. 6...</td>\n",
       "    </tr>\n",
       "    <tr>\n",
       "      <th>2</th>\n",
       "      <td>-8</td>\n",
       "      <td>1093</td>\n",
       "      <td>203</td>\n",
       "      <td>10</td>\n",
       "      <td>273.25</td>\n",
       "      <td>Human Anatomy and Physiology  i  Preface    Th...</td>\n",
       "    </tr>\n",
       "    <tr>\n",
       "      <th>3</th>\n",
       "      <td>-7</td>\n",
       "      <td>306</td>\n",
       "      <td>62</td>\n",
       "      <td>3</td>\n",
       "      <td>76.50</td>\n",
       "      <td>Human Anatomy and Physiology  ii  -  Review qu...</td>\n",
       "    </tr>\n",
       "    <tr>\n",
       "      <th>4</th>\n",
       "      <td>-6</td>\n",
       "      <td>659</td>\n",
       "      <td>112</td>\n",
       "      <td>5</td>\n",
       "      <td>164.75</td>\n",
       "      <td>Human Anatomy and Physiology  iii  Acknowledgm...</td>\n",
       "    </tr>\n",
       "  </tbody>\n",
       "</table>\n",
       "</div>"
      ],
      "text/plain": [
       "   page_number  page_char_count  page_word_count  page_setence_count_raw  \\\n",
       "0          -10              333               84                       1   \n",
       "1           -9             1267              234                       9   \n",
       "2           -8             1093              203                      10   \n",
       "3           -7              306               62                       3   \n",
       "4           -6              659              112                       5   \n",
       "\n",
       "   page_token_count                                               text  \n",
       "0             83.25  LECTURE NOTES    For Nursing Students         ...  \n",
       "1            316.75  Funded under USAID Cooperative Agreement No. 6...  \n",
       "2            273.25  Human Anatomy and Physiology  i  Preface    Th...  \n",
       "3             76.50  Human Anatomy and Physiology  ii  -  Review qu...  \n",
       "4            164.75  Human Anatomy and Physiology  iii  Acknowledgm...  "
      ]
     },
     "execution_count": 33,
     "metadata": {},
     "output_type": "execute_result"
    }
   ],
   "source": [
    "import pandas as pd\n",
    "\n",
    "df = pd.DataFrame(pages_and_texts)\n",
    "df.head()\n"
   ]
  },
  {
   "cell_type": "code",
   "execution_count": 34,
   "metadata": {},
   "outputs": [
    {
     "data": {
      "application/vnd.jupyter.widget-view+json": {
       "model_id": "dcdb5425208e4927b84b2ffed80ac50f",
       "version_major": 2,
       "version_minor": 0
      },
      "text/plain": [
       "  0%|          | 0/428 [00:00<?, ?it/s]"
      ]
     },
     "metadata": {},
     "output_type": "display_data"
    }
   ],
   "source": [
    "for item in tqdm(pages_and_texts):\n",
    "    item[\"sentences\"] = list(nlp(item[\"text\"]).sents)\n",
    "\n",
    "    # Make sure all sentences are strings (the default type is a spaCy datatype)\n",
    "    item[\"sentences\"] = [str(sentence) for sentence in item[\"sentences\"]]\n",
    "\n",
    "    # Count the sentences\n",
    "    item[\"page_sentence_count_spacy\"] = len(item[\"sentences\"])"
   ]
  },
  {
   "cell_type": "code",
   "execution_count": 35,
   "metadata": {},
   "outputs": [
    {
     "data": {
      "text/plain": [
       "[{'page_number': 269,\n",
       "  'page_char_count': 1317,\n",
       "  'page_word_count': 245,\n",
       "  'page_setence_count_raw': 18,\n",
       "  'page_token_count': 329.25,\n",
       "  'text': 'Human Anatomy and Physiology  270    is an injury to some part of the wall of this system does any  blood escape. On the basis of function, blood vessels may be  classified into three groups:  1. Arteries carry blood from the ventricles (pumping  chambers) of the heart out to the capillaries in organs and  tissue. The smallest arteries are called arterioles.  2. Veins drain capillaries in the tissues and organs and  return the blood to the heart. The smallest veins are the  venules.  3. Capillaries allow for exchanges between the blood and  body cells, or between the blood and air in the lung  tissues. The capillaries connect the arterioles and  venules.    Structure of blood vessels  Arteries, veins and capillaries differ in structure. Three coats  or layers are found in both arteries and veins (Figure 9-7). The  outer most layer is called the tunica externa. Note smooth  muscle is found in the middle layer or tunica media of arteries  and veins. However, the muscle layer is much thicker in  arteries than in veins. Why is this important? Because the  thicker muscle layer in the artery wall is able to resist great  pressures generated by ventricular systole. In arteries, the  tunica medial plays a critical role in maintaining blood  pressure and controlling blood distribution in the body. This is',\n",
       "  'sentences': ['Human Anatomy and Physiology  270    is an injury to some part of the wall of this system does any  blood escape.',\n",
       "   'On the basis of function, blood vessels may be  classified into three groups:  1.',\n",
       "   'Arteries carry blood from the ventricles (pumping  chambers) of the heart out to the capillaries in organs and  tissue.',\n",
       "   'The smallest arteries are called arterioles.',\n",
       "   ' 2.',\n",
       "   'Veins drain capillaries in the tissues and organs and  return the blood to the heart.',\n",
       "   'The smallest veins are the  venules.',\n",
       "   ' 3.',\n",
       "   'Capillaries allow for exchanges between the blood and  body cells, or between the blood and air in the lung  tissues.',\n",
       "   'The capillaries connect the arterioles and  venules.',\n",
       "   '   Structure of blood vessels  Arteries, veins and capillaries differ in structure.',\n",
       "   'Three coats  or layers are found in both arteries and veins (Figure 9-7).',\n",
       "   'The  outer most layer is called the tunica externa.',\n",
       "   'Note smooth  muscle is found in the middle layer or tunica media of arteries  and veins.',\n",
       "   'However, the muscle layer is much thicker in  arteries than in veins.',\n",
       "   'Why is this important?',\n",
       "   'Because the  thicker muscle layer in the artery wall is able to resist great  pressures generated by ventricular systole.',\n",
       "   'In arteries, the  tunica medial plays a critical role in maintaining blood  pressure and controlling blood distribution in the body.',\n",
       "   'This is'],\n",
       "  'page_sentence_count_spacy': 19}]"
      ]
     },
     "execution_count": 35,
     "metadata": {},
     "output_type": "execute_result"
    }
   ],
   "source": [
    "import random\n",
    "random.sample(pages_and_texts, k=1)"
   ]
  },
  {
   "cell_type": "code",
   "execution_count": 36,
   "metadata": {},
   "outputs": [
    {
     "data": {
      "text/html": [
       "<div>\n",
       "<style scoped>\n",
       "    .dataframe tbody tr th:only-of-type {\n",
       "        vertical-align: middle;\n",
       "    }\n",
       "\n",
       "    .dataframe tbody tr th {\n",
       "        vertical-align: top;\n",
       "    }\n",
       "\n",
       "    .dataframe thead th {\n",
       "        text-align: right;\n",
       "    }\n",
       "</style>\n",
       "<table border=\"1\" class=\"dataframe\">\n",
       "  <thead>\n",
       "    <tr style=\"text-align: right;\">\n",
       "      <th></th>\n",
       "      <th>page_number</th>\n",
       "      <th>page_char_count</th>\n",
       "      <th>page_word_count</th>\n",
       "      <th>page_setence_count_raw</th>\n",
       "      <th>page_token_count</th>\n",
       "      <th>page_sentence_count_spacy</th>\n",
       "    </tr>\n",
       "  </thead>\n",
       "  <tbody>\n",
       "    <tr>\n",
       "      <th>count</th>\n",
       "      <td>428.00</td>\n",
       "      <td>428.00</td>\n",
       "      <td>428.00</td>\n",
       "      <td>428.00</td>\n",
       "      <td>428.00</td>\n",
       "      <td>428.00</td>\n",
       "    </tr>\n",
       "    <tr>\n",
       "      <th>mean</th>\n",
       "      <td>203.50</td>\n",
       "      <td>972.77</td>\n",
       "      <td>191.65</td>\n",
       "      <td>8.77</td>\n",
       "      <td>243.19</td>\n",
       "      <td>8.70</td>\n",
       "    </tr>\n",
       "    <tr>\n",
       "      <th>std</th>\n",
       "      <td>123.70</td>\n",
       "      <td>370.10</td>\n",
       "      <td>66.41</td>\n",
       "      <td>5.35</td>\n",
       "      <td>92.52</td>\n",
       "      <td>5.45</td>\n",
       "    </tr>\n",
       "    <tr>\n",
       "      <th>min</th>\n",
       "      <td>-10.00</td>\n",
       "      <td>52.00</td>\n",
       "      <td>13.00</td>\n",
       "      <td>1.00</td>\n",
       "      <td>13.00</td>\n",
       "      <td>1.00</td>\n",
       "    </tr>\n",
       "    <tr>\n",
       "      <th>25%</th>\n",
       "      <td>96.75</td>\n",
       "      <td>695.50</td>\n",
       "      <td>151.00</td>\n",
       "      <td>4.00</td>\n",
       "      <td>173.88</td>\n",
       "      <td>4.00</td>\n",
       "    </tr>\n",
       "    <tr>\n",
       "      <th>50%</th>\n",
       "      <td>203.50</td>\n",
       "      <td>1067.00</td>\n",
       "      <td>201.00</td>\n",
       "      <td>9.00</td>\n",
       "      <td>266.75</td>\n",
       "      <td>9.00</td>\n",
       "    </tr>\n",
       "    <tr>\n",
       "      <th>75%</th>\n",
       "      <td>310.25</td>\n",
       "      <td>1268.25</td>\n",
       "      <td>235.25</td>\n",
       "      <td>12.00</td>\n",
       "      <td>317.06</td>\n",
       "      <td>12.00</td>\n",
       "    </tr>\n",
       "    <tr>\n",
       "      <th>max</th>\n",
       "      <td>417.00</td>\n",
       "      <td>1822.00</td>\n",
       "      <td>795.00</td>\n",
       "      <td>31.00</td>\n",
       "      <td>455.50</td>\n",
       "      <td>35.00</td>\n",
       "    </tr>\n",
       "  </tbody>\n",
       "</table>\n",
       "</div>"
      ],
      "text/plain": [
       "       page_number  page_char_count  page_word_count  page_setence_count_raw  \\\n",
       "count       428.00           428.00           428.00                  428.00   \n",
       "mean        203.50           972.77           191.65                    8.77   \n",
       "std         123.70           370.10            66.41                    5.35   \n",
       "min         -10.00            52.00            13.00                    1.00   \n",
       "25%          96.75           695.50           151.00                    4.00   \n",
       "50%         203.50          1067.00           201.00                    9.00   \n",
       "75%         310.25          1268.25           235.25                   12.00   \n",
       "max         417.00          1822.00           795.00                   31.00   \n",
       "\n",
       "       page_token_count  page_sentence_count_spacy  \n",
       "count            428.00                     428.00  \n",
       "mean             243.19                       8.70  \n",
       "std               92.52                       5.45  \n",
       "min               13.00                       1.00  \n",
       "25%              173.88                       4.00  \n",
       "50%              266.75                       9.00  \n",
       "75%              317.06                      12.00  \n",
       "max              455.50                      35.00  "
      ]
     },
     "execution_count": 36,
     "metadata": {},
     "output_type": "execute_result"
    }
   ],
   "source": [
    "df = pd.DataFrame(pages_and_texts)\n",
    "df.describe().round(2)"
   ]
  },
  {
   "cell_type": "code",
   "execution_count": 37,
   "metadata": {},
   "outputs": [],
   "source": [
    "num_chunk_list_size = 10\n",
    "\n",
    "def chunk_text(input_text: list[str], chunk_size: int= num_chunk_list_size) -> list[list[str]]:\n",
    "    return [input_text[i: i+chunk_size] for i in range(0, len(input_text), chunk_size)]"
   ]
  },
  {
   "cell_type": "code",
   "execution_count": 38,
   "metadata": {},
   "outputs": [
    {
     "data": {
      "application/vnd.jupyter.widget-view+json": {
       "model_id": "e3fe281a864e49de98b94c59b9bec746",
       "version_major": 2,
       "version_minor": 0
      },
      "text/plain": [
       "  0%|          | 0/428 [00:00<?, ?it/s]"
      ]
     },
     "metadata": {},
     "output_type": "display_data"
    }
   ],
   "source": [
    "for item in tqdm(pages_and_texts):\n",
    "    item[\"sentence_chunks\"] = chunk_text(item[\"sentences\"])\n",
    "    item[\"sentence_chunks_num\"] = len(item[\"sentence_chunks\"])"
   ]
  },
  {
   "cell_type": "code",
   "execution_count": 40,
   "metadata": {},
   "outputs": [
    {
     "data": {
      "text/plain": [
       "[['Human Anatomy and Physiology  308    Review Questions     1.',\n",
       "  'What is the purpose of respiration and what are its two  components?',\n",
       "  ' 2.',\n",
       "  'Trace the pathway of air from the outside into the blood.',\n",
       "  ' 3.',\n",
       "  'What are the advantages of breathing through the nose?',\n",
       "  ' 4.',\n",
       "  'Describe the lung cavities.',\n",
       "  ' 5.',\n",
       "  'What  muscles  are  used  for  inhalation?'],\n",
       " [' Forceful  expiration?',\n",
       "  ' 6.',\n",
       "  'What are chemoreceptors and how do they function to  regulate breathing?',\n",
       "  ' 7.',\n",
       "  'Define four volumes used to measure breathing.']]"
      ]
     },
     "execution_count": 40,
     "metadata": {},
     "output_type": "execute_result"
    }
   ],
   "source": [
    "rnd = random.sample(pages_and_texts, k=1)\n",
    "rnd_chunk = rnd[0][\"sentence_chunks\"]\n",
    "rnd_chunk\n"
   ]
  },
  {
   "cell_type": "code",
   "execution_count": 41,
   "metadata": {},
   "outputs": [
    {
     "data": {
      "application/vnd.jupyter.widget-view+json": {
       "model_id": "3bd29763053c45eca92b96dd1d69dca4",
       "version_major": 2,
       "version_minor": 0
      },
      "text/plain": [
       "  0%|          | 0/428 [00:00<?, ?it/s]"
      ]
     },
     "metadata": {},
     "output_type": "display_data"
    }
   ],
   "source": [
    "import re\n",
    "\n",
    "page_chunks = []\n",
    "\n",
    "for item in tqdm(pages_and_texts):\n",
    "    for sentence in item[\"sentence_chunks\"]:\n",
    "        chunk_dict = {}\n",
    "        chunk_dict[\"page_no\"] = item[\"page_number\"]\n",
    "\n",
    "        joined_sentence = \"\".join(sentence).replace(\"  \",\" \").strip()\n",
    "        joined_sentence = re.sub(r'\\.([A-Z])', r'. \\1', joined_sentence)\n",
    "\n",
    "        chunk_dict[\"chunk_sentences\"] = joined_sentence\n",
    "\n",
    "        chunk_dict[\"character_count\"] = len(joined_sentence)\n",
    "        chunk_dict[\"word_count\"] = len([word for word in joined_sentence.split(\" \")])\n",
    "        chunk_dict[\"token_count\"] = len(joined_sentence)/4\n",
    "\n",
    "        page_chunks.append(chunk_dict)"
   ]
  },
  {
   "cell_type": "code",
   "execution_count": 44,
   "metadata": {},
   "outputs": [
    {
     "data": {
      "text/plain": [
       "[{'page_no': 367,\n",
       "  'chunk_sentences': 'Human Anatomy and Physiology 368  14.1.1 Male internal reproductive organs  Male internal reproductive organs include the tastes, series of ducts and accessory glands.  14.1.1.1 Tastes   Testes are paired male reproductive organs (gonads), which produce sperm. During fetal life, tests are formed just below the kidneys inside the abdomino-pelvic cavity. By third fetal month it stats is to descend and by the seventh month of fetal life it passes through the inguinal canal. The inguinal canal is a passageway leading to scrotum.  Scrotum is a paunch of skin that hangs between the thighs. The tests complete their descent in to the scrotum shortly before or after birth. Because the tests hang in scrotum out side the body their temperature is of cooler than the body temperature by 3 Degree Fahrenheit. This lower temperature is needed for sperm production and survival. Under the skin of scrotum, Cremaster muscle elevates tests during cold weather.',\n",
       "  'character_count': 953,\n",
       "  'word_count': 157,\n",
       "  'token_count': 238.25}]"
      ]
     },
     "execution_count": 44,
     "metadata": {},
     "output_type": "execute_result"
    }
   ],
   "source": [
    "random.sample(page_chunks, k=1)"
   ]
  },
  {
   "cell_type": "code",
   "execution_count": 47,
   "metadata": {},
   "outputs": [
    {
     "data": {
      "text/plain": [
       "[{'page_no': -10,\n",
       "  'chunk_sentences': 'LECTURE NOTES  For Nursing Students      Human Anatomy and Physiology         Nega Assefa Alemaya University Yosief Tsige Jimma University   In collaboration with the Ethiopia Public Health Training Initiative, The Carter Center, the Ethiopia Ministry of Health, and the Ethiopia Ministry of Education  2003',\n",
       "  'character_count': 307,\n",
       "  'word_count': 58,\n",
       "  'token_count': 76.75},\n",
       " {'page_no': -9,\n",
       "  'chunk_sentences': 'Funded under USAID Cooperative Agreement No.663-A-00-00-0358-00.   Produced in collaboration with the Ethiopia Public Health Training Initiative, The Carter Center, the Ethiopia Ministry of Health, and the Ethiopia Ministry of Education.         Important Guidelines for Printing and Photocopying Limited permission is granted free of charge to print or photocopy all pages of this publication for educational, not-for-profit use by health care workers, students or faculty. All copies must retain all author credits and copyright notices included in the original document. Under no circumstances is it permissible to sell or distribute on a commercial basis, or to claim authorship of, copies of material reproduced from this publication.  ©2003 by Nega Assefa and Yosief Tsige  All rights reserved. Except as expressly provided above, no part of this publication may be reproduced or transmitted in any form or by any means, electronic or mechanical, including photocopying, recording, or by any information storage and retrieval system, without written permission of the author or authors.       This material is intended for educational use only by practicing health care workers or students and faculty in a health care field.',\n",
       "  'character_count': 1231,\n",
       "  'word_count': 198,\n",
       "  'token_count': 307.75}]"
      ]
     },
     "execution_count": 47,
     "metadata": {},
     "output_type": "execute_result"
    }
   ],
   "source": [
    "df = pd.DataFrame(page_chunks)\n",
    "min_token= 30\n",
    "pages_chunks_over_min_token = df[df[\"token_count\"] > min_token].to_dict(orient=\"records\")\n",
    "pages_chunks_over_min_token[:2]"
   ]
  },
  {
   "cell_type": "code",
   "execution_count": null,
   "metadata": {},
   "outputs": [],
   "source": []
  }
 ],
 "metadata": {
  "kernelspec": {
   "display_name": "Python 3 (ipykernel)",
   "language": "python",
   "name": "python3"
  },
  "language_info": {
   "codemirror_mode": {
    "name": "ipython",
    "version": 3
   },
   "file_extension": ".py",
   "mimetype": "text/x-python",
   "name": "python",
   "nbconvert_exporter": "python",
   "pygments_lexer": "ipython3",
   "version": "3.12.0"
  }
 },
 "nbformat": 4,
 "nbformat_minor": 4
}
