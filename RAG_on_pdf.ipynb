{
 "cells": [
  {
   "cell_type": "markdown",
   "metadata": {},
   "source": [
    "## Data Preprocessing"
   ]
  },
  {
   "cell_type": "code",
   "execution_count": null,
   "metadata": {},
   "outputs": [],
   "source": [
    "import fitz\n",
    "from tqdm.auto import tqdm\n",
    "\n",
    "pdf_path = \"ln_human_anat_final.pdf\"\n",
    "\n",
    "def text_formatter(text: str) -> str: \n",
    "    \"\"\"Performs minor formatting on text.\"\"\"\n",
    "    cleaned_text = text.replace(\"\\n\", \" \").strip()\n",
    "\n",
    "    # Potentially more text formatting functions can go here\n",
    "    return cleaned_text\n",
    "\n",
    "def open_and_read_pdf(pdf_path: str) -> list[dict]:\n",
    "    doc = fitz.open(pdf_path)\n",
    "    pages_and_texts = [] \n",
    "    for page_number, page in tqdm(enumerate(doc)):\n",
    "        text = page.get_text()\n",
    "        text = text_formatter(text=text)\n",
    "        pages_and_texts.append({\"page_number\": page_number-10,\n",
    "                                \"page_char_count\": len(text),\n",
    "                                \"page_word_count\": len(text.split(\" \")),\n",
    "                                \"page_setence_count_raw\": len(text.split(\". \")),\n",
    "                                \"page_token_count\": len(text) / 4, # 1 token = ~4 characters\n",
    "                                \"text\": text})\n",
    "    return pages_and_texts\n",
    "\n",
    "pages_and_texts = open_and_read_pdf(pdf_path=pdf_path)\n",
    "pages_and_texts[:2]"
   ]
  },
  {
   "cell_type": "code",
   "execution_count": null,
   "metadata": {},
   "outputs": [],
   "source": [
    "import pandas as pd\n",
    "\n",
    "df = pd.DataFrame(pages_and_texts)\n",
    "df.head()\n"
   ]
  },
  {
   "cell_type": "code",
   "execution_count": 4,
   "metadata": {},
   "outputs": [
    {
     "data": {
      "text/plain": [
       "<spacy.pipeline.sentencizer.Sentencizer at 0x1eb154936d0>"
      ]
     },
     "execution_count": 4,
     "metadata": {},
     "output_type": "execute_result"
    }
   ],
   "source": [
    "from spacy.lang.en import English\n",
    "\n",
    "nlp = English()\n",
    " \n",
    "nlp.add_pipe(\"sentencizer\")"
   ]
  },
  {
   "cell_type": "code",
   "execution_count": null,
   "metadata": {},
   "outputs": [],
   "source": [
    "for item in tqdm(pages_and_texts):\n",
    "    item[\"sentences\"] = list(nlp(item[\"text\"]).sents)\n",
    "\n",
    "    item[\"sentences\"] = [str(sentence) for sentence in item[\"sentences\"]]\n",
    "\n",
    "    item[\"page_sentence_count_spacy\"] = len(item[\"sentences\"])"
   ]
  },
  {
   "cell_type": "code",
   "execution_count": null,
   "metadata": {},
   "outputs": [],
   "source": [
    "import random\n",
    "random.sample(pages_and_texts, k=1)"
   ]
  },
  {
   "cell_type": "code",
   "execution_count": null,
   "metadata": {},
   "outputs": [],
   "source": [
    "df = pd.DataFrame(pages_and_texts)\n",
    "df.describe().round(2)"
   ]
  },
  {
   "cell_type": "markdown",
   "metadata": {},
   "source": [
    "## Chunking"
   ]
  },
  {
   "cell_type": "code",
   "execution_count": 8,
   "metadata": {},
   "outputs": [],
   "source": [
    "num_chunk_list_size = 10\n",
    "\n",
    "def chunk_text(input_text: list[str], chunk_size: int= num_chunk_list_size) -> list[list[str]]:\n",
    "    return [input_text[i: i+chunk_size] for i in range(0, len(input_text), chunk_size)]"
   ]
  },
  {
   "cell_type": "code",
   "execution_count": 9,
   "metadata": {},
   "outputs": [
    {
     "data": {
      "application/vnd.jupyter.widget-view+json": {
       "model_id": "da66e451498c4d5f84b90569d9599fb5",
       "version_major": 2,
       "version_minor": 0
      },
      "text/plain": [
       "  0%|          | 0/428 [00:00<?, ?it/s]"
      ]
     },
     "metadata": {},
     "output_type": "display_data"
    }
   ],
   "source": [
    "for item in tqdm(pages_and_texts):\n",
    "    item[\"sentence_chunks\"] = chunk_text(item[\"sentences\"])\n",
    "    item[\"sentence_chunks_num\"] = len(item[\"sentence_chunks\"])"
   ]
  },
  {
   "cell_type": "code",
   "execution_count": null,
   "metadata": {},
   "outputs": [],
   "source": [
    "rnd = random.sample(pages_and_texts, k=1)\n",
    "rnd_chunk = rnd[0][\"sentence_chunks\"]\n",
    "rnd_chunk\n"
   ]
  },
  {
   "cell_type": "code",
   "execution_count": 11,
   "metadata": {},
   "outputs": [
    {
     "data": {
      "application/vnd.jupyter.widget-view+json": {
       "model_id": "c3b50cd78a9d44a288c5090ca5fe9df9",
       "version_major": 2,
       "version_minor": 0
      },
      "text/plain": [
       "  0%|          | 0/428 [00:00<?, ?it/s]"
      ]
     },
     "metadata": {},
     "output_type": "display_data"
    }
   ],
   "source": [
    "import re\n",
    "\n",
    "page_chunks = []\n",
    "\n",
    "for item in tqdm(pages_and_texts):\n",
    "    for sentence in item[\"sentence_chunks\"]:\n",
    "        chunk_dict = {}\n",
    "        chunk_dict[\"page_no\"] = item[\"page_number\"]\n",
    "\n",
    "        joined_sentence = \"\".join(sentence).replace(\"  \",\" \").strip()\n",
    "        joined_sentence = re.sub(r'\\.([A-Z])', r'. \\1', joined_sentence)\n",
    "\n",
    "        chunk_dict[\"chunk_sentences\"] = joined_sentence\n",
    "\n",
    "        chunk_dict[\"character_count\"] = len(joined_sentence)\n",
    "        chunk_dict[\"word_count\"] = len([word for word in joined_sentence.split(\" \")])\n",
    "        chunk_dict[\"token_count\"] = len(joined_sentence)/4\n",
    "\n",
    "        page_chunks.append(chunk_dict)"
   ]
  },
  {
   "cell_type": "code",
   "execution_count": null,
   "metadata": {},
   "outputs": [],
   "source": [
    "random.sample(page_chunks, k=1)"
   ]
  },
  {
   "cell_type": "code",
   "execution_count": null,
   "metadata": {},
   "outputs": [],
   "source": [
    "df = pd.DataFrame(page_chunks)\n",
    "min_token= 30\n",
    "pages_chunks_over_min_token = df[df[\"token_count\"] > min_token].to_dict(orient=\"records\")\n",
    "pages_chunks_over_min_token[:2]"
   ]
  },
  {
   "cell_type": "code",
   "execution_count": null,
   "metadata": {},
   "outputs": [],
   "source": [
    "text_chunks = [item[\"chunk_sentences\"] for item in pages_chunks_over_min_token]\n",
    "text_chunks"
   ]
  },
  {
   "cell_type": "markdown",
   "metadata": {},
   "source": [
    "## Embedding"
   ]
  },
  {
   "cell_type": "code",
   "execution_count": null,
   "metadata": {},
   "outputs": [],
   "source": [
    "from sentence_transformers import SentenceTransformer\n",
    "\n",
    "model = SentenceTransformer(model_name_or_path=\"all-mpnet-base-v2\")\n",
    "\n",
    "model.to(\"cuda\")\n",
    "\n",
    "# text_chunk_embeddings = model.encode(text_chunks, batch_size=32, convert_to_tensor=True)\n",
    "\n",
    "for item in tqdm(pages_chunks_over_min_token):\n",
    "    item[\"embedding\"] = model.encode(item[\"chunk_sentences\"])"
   ]
  },
  {
   "cell_type": "code",
   "execution_count": 16,
   "metadata": {},
   "outputs": [
    {
     "data": {
      "text/plain": [
       "(768,)"
      ]
     },
     "execution_count": 16,
     "metadata": {},
     "output_type": "execute_result"
    }
   ],
   "source": [
    "pages_chunks_over_min_token[419][\"embedding\"].shape"
   ]
  },
  {
   "cell_type": "markdown",
   "metadata": {},
   "source": [
    "## Saving to file(Pytorch tensors) /saving to vector Database using chromaDB"
   ]
  },
  {
   "cell_type": "markdown",
   "metadata": {},
   "source": [
    "### 1 saving to file(pytorch tensors)"
   ]
  },
  {
   "cell_type": "code",
   "execution_count": 23,
   "metadata": {},
   "outputs": [],
   "source": [
    "text_chunks_and_embeddings_df = pd.DataFrame(pages_chunks_over_min_token)\n",
    "embeddings_df_save_path = \"text_chunks_and_embeddings_df.csv\"\n",
    "text_chunks_and_embeddings_df.to_csv(embeddings_df_save_path, index=False)"
   ]
  },
  {
   "cell_type": "code",
   "execution_count": null,
   "metadata": {},
   "outputs": [],
   "source": [
    "import torch\n",
    "import numpy as np\n",
    "\n",
    "device = \"cuda\" if torch.cuda.is_available() else \"cpu\"\n",
    "\n",
    "text_chunks_and_embedding_df = pd.read_csv(\"text_chunks_and_embeddings_df.csv\")\n",
    "\n",
    "text_chunks_and_embedding_df[\"embedding\"] = text_chunks_and_embedding_df[\"embedding\"].apply(lambda x: np.fromstring(x.strip(\"[]\"), sep=\" \"))\n",
    "\n",
    "\n",
    "embeddings = torch.tensor(np.stack(text_chunks_and_embedding_df[\"embedding\"].tolist(), axis=0), dtype=torch.float32).to(device)\n",
    "\n",
    "pages_and_chunks = text_chunks_and_embedding_df.to_dict(orient=\"records\")\n",
    "\n",
    "text_chunks_and_embedding_df\n",
    "pages_and_chunks"
   ]
  },
  {
   "cell_type": "markdown",
   "metadata": {},
   "source": [
    "## ChromaDB implementation for storing and retrieveing"
   ]
  },
  {
   "cell_type": "code",
   "execution_count": 65,
   "metadata": {},
   "outputs": [],
   "source": [
    "import chromadb\n",
    "from chromadb.utils import embedding_functions\n",
    "\n",
    "CHROMA_DATA_PATH = \"chroma/\"\n",
    "EMBED_MODEL = \"all-mpnet-base-v2\"\n",
    "COLLECTION_NAME = \"text_and_chunks\"\n",
    "\n",
    "client = chromadb.PersistentClient(path=CHROMA_DATA_PATH)"
   ]
  },
  {
   "cell_type": "code",
   "execution_count": null,
   "metadata": {},
   "outputs": [],
   "source": [
    "embedding_func = embedding_functions.SentenceTransformerEmbeddingFunction(\n",
    "    model_name=EMBED_MODEL\n",
    ")\n",
    "\n",
    "collection = client.create_collection(\n",
    "    name=COLLECTION_NAME,\n",
    "    embedding_function=embedding_func,\n",
    "    metadata={\"hnsw:space\": \"cosine\"},\n",
    ")"
   ]
  },
  {
   "cell_type": "code",
   "execution_count": null,
   "metadata": {},
   "outputs": [],
   "source": [
    "documents=[item[\"chunk_sentences\"] for item in pages_chunks_over_min_token]\n",
    "collection.add(\n",
    "    documents=documents,\n",
    "    ids=[f\"id{i}\" for i in range(len(documents))],\n",
    ")"
   ]
  },
  {
   "cell_type": "code",
   "execution_count": 73,
   "metadata": {},
   "outputs": [],
   "source": [
    "query_results = collection.query(\n",
    "     query_texts=[\"What are enzymes?\"],\n",
    "     include=[\"documents\", \"distances\"],\n",
    "     n_results=5\n",
    " )"
   ]
  },
  {
   "cell_type": "code",
   "execution_count": 72,
   "metadata": {},
   "outputs": [],
   "source": [
    "query_results[\"embeddings\"]"
   ]
  },
  {
   "cell_type": "code",
   "execution_count": 74,
   "metadata": {},
   "outputs": [
    {
     "data": {
      "text/plain": [
       "[['Human Anatomy and Physiology 330  along the alimentary canal, and finally eliminates the digestive wastes from the body. Chewing or mastication, swallowing or deglutition, peristalsis, and defecation are the main processes of mechanical digestion. Chemical digestion breaks down large, nonabsorbable food molecules−molecules that are able to pass through the intestinal mucosa into blood and lymph. Chemical digestion consists of numerous chemical reactions catalyzed by enzymes in saliva, gastric juice, pancreatic juice, and intestinal juice.  Carbohydrate Digestion  Very little digestion of carbohydrates (starches and sugars) occurs before food reaches the small intestine. Salivary amylase usually has little time to do its work because so many of us swallow our food so fast. Gastric juice contains no carbohydrate-digesting enzymes. But after the food reaches the small intestine, pancreatic and intestinal juice enzymes digest the starches and sugars. A pancreatic enzyme (amylase) starts the process by changing starches into a double sugar, namely, maltose. Three intestinal enzymes−rnaltase, sucrase, and lactase−digest double sugars by changing them into simple sugars, chiefly glucose (dextrose).',\n",
       "  'Human Anatomy and Physiology 332  Table 11-1 summarizes the main facts about chemical digestion. Enzyme names indicate the type of food digested by the enzyme. For example, the name amylase indicates that the enzyme digests carbohydrates (starches and sugars), protease indicates a protein- digesting enzyme, and lipase means a fat-digesting enzyme. When carbohydrate digestion has been completed, starches (polysaccharides) and double sugars (disaccharides) have been changed mainly to glucose, a simple sugar (monosaccharide). The end products of protein digestion, on the other hand, are amino acids. Fatty acids and glycerol are the end products of fat digestion.  Absorption  After food is digested, it is absorbed; that is, it moves through the mucous membrane lining of the small intestine into the blood and lymph. In other words, food absorption is the process by which molecules of amino acids, glucose, fatty acids, and glycerol goes from the inside of the intestines into the circulating fluids of the body. Absorption of foods is just as essential as digestion of foods. The reason is fairly obvious.',\n",
       "  'Human Anatomy and Physiology 331  digestion is the so-called simple sugar; the most abundant is glucose.  Protein Digestion  Protein digestion starts in the stomach. Two enzymes (renin and pepsin) in the gastric juice cause the giant protein molecules to break up into somewhat simpler compounds. Pepsinogen, a component of gastric juice, is converted into active pepsin enzyme by hydrochloric acid (also in gastric juice). In the intestine, other enzymes (trypsin in the pancreatic juice and peptidases in the intestinal juice) finish the job of protein digestion. Every protein molecule is made up of many amino acids joined together. When enzymes have split up the large protein molecule into its separate amino acids, protein digestion is completed. Hence the end product of protein digestion is amino acids. For obvious reasons, the amino acids are also referred to as protein building blocks.  Fat Digestion  Very little carbohydrate and fat digestion occurs before food reaches the small intestine.',\n",
       "  'This enzyme is produced in an inactive form and is activated only when food enters the stomach and HCL is produced. The semi-liquid mixture of gastric juice and food that leaves the stomach to enter the small intestine is called chyme.',\n",
       "  'Human Anatomy and Physiology 329  duct. Most persons also have an additional smaller duct that opens into the duodenum.  Because they arte usually confined to proper channels, pancreatic enzymes do not damage body tissues. However, if the bile ducts become blocked, pancreatic enzymes back up into the pancreas. Also, in some cases of gallbladder disease, disease, infection may extend to the pancreas and cause abnormal activation of the pancreatic enzymes. In either circumstance, the pancreas suffers destruction by its own juice, and the outcome can be fatal; this condition is known as acute pancreatitis.  The pancreas also functions as an endocrine gland, producing the hormones insulin and glucagons that regulate sugar metabolism. These secretions of the islets cells are released directly into the blood.  Digestion and Absorption of Carbohydrates, Fats, and Proteins   Digestion  Digestion, a complex process that occurs in the alimentary canal, consists of physical and chemical changes that prepare food for absorption. Mechanical digestion breaks food into tiny particles, mixes them with digestive juices, moves them']]"
      ]
     },
     "execution_count": 74,
     "metadata": {},
     "output_type": "execute_result"
    }
   ],
   "source": [
    "query_results[\"documents\"]"
   ]
  },
  {
   "cell_type": "code",
   "execution_count": 84,
   "metadata": {},
   "outputs": [],
   "source": [
    "def chroma_retreiver(query:str, collection=collection):\n",
    "    query_results = collection.query(\n",
    "     query_texts=[query],\n",
    "     include=[\"documents\", \"distances\"],\n",
    "     n_results=5\n",
    "    )\n",
    "    return query_results[\"documents\"]\n",
    "    "
   ]
  },
  {
   "cell_type": "code",
   "execution_count": 85,
   "metadata": {},
   "outputs": [
    {
     "data": {
      "text/plain": [
       "[['Human Anatomy and Physiology 330  along the alimentary canal, and finally eliminates the digestive wastes from the body. Chewing or mastication, swallowing or deglutition, peristalsis, and defecation are the main processes of mechanical digestion. Chemical digestion breaks down large, nonabsorbable food molecules−molecules that are able to pass through the intestinal mucosa into blood and lymph. Chemical digestion consists of numerous chemical reactions catalyzed by enzymes in saliva, gastric juice, pancreatic juice, and intestinal juice.  Carbohydrate Digestion  Very little digestion of carbohydrates (starches and sugars) occurs before food reaches the small intestine. Salivary amylase usually has little time to do its work because so many of us swallow our food so fast. Gastric juice contains no carbohydrate-digesting enzymes. But after the food reaches the small intestine, pancreatic and intestinal juice enzymes digest the starches and sugars. A pancreatic enzyme (amylase) starts the process by changing starches into a double sugar, namely, maltose. Three intestinal enzymes−rnaltase, sucrase, and lactase−digest double sugars by changing them into simple sugars, chiefly glucose (dextrose).',\n",
       "  'Human Anatomy and Physiology 332  Table 11-1 summarizes the main facts about chemical digestion. Enzyme names indicate the type of food digested by the enzyme. For example, the name amylase indicates that the enzyme digests carbohydrates (starches and sugars), protease indicates a protein- digesting enzyme, and lipase means a fat-digesting enzyme. When carbohydrate digestion has been completed, starches (polysaccharides) and double sugars (disaccharides) have been changed mainly to glucose, a simple sugar (monosaccharide). The end products of protein digestion, on the other hand, are amino acids. Fatty acids and glycerol are the end products of fat digestion.  Absorption  After food is digested, it is absorbed; that is, it moves through the mucous membrane lining of the small intestine into the blood and lymph. In other words, food absorption is the process by which molecules of amino acids, glucose, fatty acids, and glycerol goes from the inside of the intestines into the circulating fluids of the body. Absorption of foods is just as essential as digestion of foods. The reason is fairly obvious.',\n",
       "  'Human Anatomy and Physiology 331  digestion is the so-called simple sugar; the most abundant is glucose.  Protein Digestion  Protein digestion starts in the stomach. Two enzymes (renin and pepsin) in the gastric juice cause the giant protein molecules to break up into somewhat simpler compounds. Pepsinogen, a component of gastric juice, is converted into active pepsin enzyme by hydrochloric acid (also in gastric juice). In the intestine, other enzymes (trypsin in the pancreatic juice and peptidases in the intestinal juice) finish the job of protein digestion. Every protein molecule is made up of many amino acids joined together. When enzymes have split up the large protein molecule into its separate amino acids, protein digestion is completed. Hence the end product of protein digestion is amino acids. For obvious reasons, the amino acids are also referred to as protein building blocks.  Fat Digestion  Very little carbohydrate and fat digestion occurs before food reaches the small intestine.',\n",
       "  'This enzyme is produced in an inactive form and is activated only when food enters the stomach and HCL is produced. The semi-liquid mixture of gastric juice and food that leaves the stomach to enter the small intestine is called chyme.',\n",
       "  'Human Anatomy and Physiology 329  duct. Most persons also have an additional smaller duct that opens into the duodenum.  Because they arte usually confined to proper channels, pancreatic enzymes do not damage body tissues. However, if the bile ducts become blocked, pancreatic enzymes back up into the pancreas. Also, in some cases of gallbladder disease, disease, infection may extend to the pancreas and cause abnormal activation of the pancreatic enzymes. In either circumstance, the pancreas suffers destruction by its own juice, and the outcome can be fatal; this condition is known as acute pancreatitis.  The pancreas also functions as an endocrine gland, producing the hormones insulin and glucagons that regulate sugar metabolism. These secretions of the islets cells are released directly into the blood.  Digestion and Absorption of Carbohydrates, Fats, and Proteins   Digestion  Digestion, a complex process that occurs in the alimentary canal, consists of physical and chemical changes that prepare food for absorption. Mechanical digestion breaks food into tiny particles, mixes them with digestive juices, moves them']]"
      ]
     },
     "execution_count": 85,
     "metadata": {},
     "output_type": "execute_result"
    }
   ],
   "source": [
    "chroma_retreiver(\"What are enzymes?\")"
   ]
  },
  {
   "cell_type": "code",
   "execution_count": 27,
   "metadata": {},
   "outputs": [
    {
     "data": {
      "text/plain": [
       "torch.Size([559, 768])"
      ]
     },
     "execution_count": 27,
     "metadata": {},
     "output_type": "execute_result"
    }
   ],
   "source": [
    "embeddings.shape"
   ]
  },
  {
   "cell_type": "code",
   "execution_count": 29,
   "metadata": {},
   "outputs": [],
   "source": [
    "import textwrap\n",
    "\n",
    "def print_wrapped(text, wrap_length=80):\n",
    "    wrapped_text = textwrap.fill(text, wrap_length)\n",
    "    print(wrapped_text)"
   ]
  },
  {
   "cell_type": "markdown",
   "metadata": {},
   "source": [
    "## Retriever from scratch for the database from csv"
   ]
  },
  {
   "cell_type": "code",
   "execution_count": 78,
   "metadata": {},
   "outputs": [],
   "source": [
    "from sentence_transformers import util\n",
    "\n",
    "def retriever(query: str, embeddings: torch.tensor, model: SentenceTransformer=model, return_amount: int=5):\n",
    "  \n",
    "    query_embedding = model.encode(query, convert_to_tensor=True)\n",
    "    dot_scores = util.cos_sim(query_embedding, embeddings)[0]\n",
    "\n",
    "    scores, indices = torch.topk(input=dot_scores, k=return_amount)\n",
    "\n",
    "    return scores, indices\n",
    "\n",
    "def print_top_results_and_scores(query: str, embeddings: torch.tensor, pages_and_chunks: list[dict]=pages_and_chunks, return_amount: int=5):\n",
    "    scores, indices = retriever(query=query, embeddings=embeddings, return_amount=return_amount)\n",
    "\n",
    "    for score, idx in zip(scores, indices):\n",
    "        print(f\"Score: {score:.4f}\")\n",
    "        print(\"Text:\")\n",
    "        print_wrapped(pages_and_chunks[idx][\"chunk_sentences\"])\n",
    "        print(f\"Page number: {pages_and_chunks[idx]['page_no']}\")\n",
    "        print(\"\\n\")"
   ]
  },
  {
   "cell_type": "code",
   "execution_count": null,
   "metadata": {},
   "outputs": [],
   "source": [
    "query=\"what are enzymes\"\n",
    "# retrieve_relevant_resources(query=query, embeddings=embeddings) \n",
    "print_top_results_and_scores(query=query, embeddings=embeddings)"
   ]
  },
  {
   "cell_type": "markdown",
   "metadata": {},
   "source": [
    "## Generator"
   ]
  },
  {
   "cell_type": "code",
   "execution_count": null,
   "metadata": {},
   "outputs": [],
   "source": [
    "from transformers import AutoTokenizer, AutoModelForCausalLM\n",
    "from transformers import BitsAndBytesConfig\n",
    "\n",
    "quantization_config = BitsAndBytesConfig(load_in_4bit=True,\n",
    "                                         bnb_4bit_compute_dtype=torch.float16)\n",
    "\n",
    "attn_implementation = \"sdpa\" # scaled dot product attention\n",
    "print(f\"Using attention implementation: {attn_implementation}\") \n",
    "\n",
    "model_id = \"google/gemma-2b-it\"\n",
    "\n",
    "tokenizer = AutoTokenizer.from_pretrained(\"google/gemma-2b-it\")\n",
    "llm_model = AutoModelForCausalLM.from_pretrained(pretrained_model_name_or_path=model_id,\n",
    "                                                 torch_dtype=torch.float16,\n",
    "                                                 quantization_config= quantization_config,\n",
    "                                                 low_cpu_mem_usage=False, \n",
    "                                                 attn_implementation=attn_implementation)"
   ]
  },
  {
   "cell_type": "code",
   "execution_count": 91,
   "metadata": {},
   "outputs": [],
   "source": [
    "query = \"What is the functions of the mouth?\""
   ]
  },
  {
   "cell_type": "code",
   "execution_count": 80,
   "metadata": {},
   "outputs": [
    {
     "name": "stdout",
     "output_type": "stream",
     "text": [
      "<bos><start_of_turn>user\n",
      "Based on the following context items, please answer the query.\n",
      "        Give yourself room to think by extracting relevant passages from the context before answering the query.\n",
      "        Don't return the thinking, only return the answer.\n",
      "        Make sure your answers are as explanatory as possible.\n",
      "        \n",
      "Now use the following context items to answer the user query:\n",
      "        - Human Anatomy and Physiology 330  along the alimentary canal, and finally eliminates the digestive wastes from the body. Chewing or mastication, swallowing or deglutition, peristalsis, and defecation are the main processes of mechanical digestion. Chemical digestion breaks down large, nonabsorbable food molecules−molecules that are able to pass through the intestinal mucosa into blood and lymph. Chemical digestion consists of numerous chemical reactions catalyzed by enzymes in saliva, gastric juice, pancreatic juice, and intestinal juice.  Carbohydrate Digestion  Very little digestion of carbohydrates (starches and sugars) occurs before food reaches the small intestine. Salivary amylase usually has little time to do its work because so many of us swallow our food so fast. Gastric juice contains no carbohydrate-digesting enzymes. But after the food reaches the small intestine, pancreatic and intestinal juice enzymes digest the starches and sugars. A pancreatic enzyme (amylase) starts the process by changing starches into a double sugar, namely, maltose. Three intestinal enzymes−rnaltase, sucrase, and lactase−digest double sugars by changing them into simple sugars, chiefly glucose (dextrose).\n",
      "- Human Anatomy and Physiology 331  digestion is the so-called simple sugar; the most abundant is glucose.  Protein Digestion  Protein digestion starts in the stomach. Two enzymes (renin and pepsin) in the gastric juice cause the giant protein molecules to break up into somewhat simpler compounds. Pepsinogen, a component of gastric juice, is converted into active pepsin enzyme by hydrochloric acid (also in gastric juice). In the intestine, other enzymes (trypsin in the pancreatic juice and peptidases in the intestinal juice) finish the job of protein digestion. Every protein molecule is made up of many amino acids joined together. When enzymes have split up the large protein molecule into its separate amino acids, protein digestion is completed. Hence the end product of protein digestion is amino acids. For obvious reasons, the amino acids are also referred to as protein building blocks.  Fat Digestion  Very little carbohydrate and fat digestion occurs before food reaches the small intestine.\n",
      "- Human Anatomy and Physiology 332  Table 11-1 summarizes the main facts about chemical digestion. Enzyme names indicate the type of food digested by the enzyme. For example, the name amylase indicates that the enzyme digests carbohydrates (starches and sugars), protease indicates a protein- digesting enzyme, and lipase means a fat-digesting enzyme. When carbohydrate digestion has been completed, starches (polysaccharides) and double sugars (disaccharides) have been changed mainly to glucose, a simple sugar (monosaccharide). The end products of protein digestion, on the other hand, are amino acids. Fatty acids and glycerol are the end products of fat digestion.  Absorption  After food is digested, it is absorbed; that is, it moves through the mucous membrane lining of the small intestine into the blood and lymph. In other words, food absorption is the process by which molecules of amino acids, glucose, fatty acids, and glycerol goes from the inside of the intestines into the circulating fluids of the body. Absorption of foods is just as essential as digestion of foods. The reason is fairly obvious.\n",
      "- This enzyme is produced in an inactive form and is activated only when food enters the stomach and HCL is produced. The semi-liquid mixture of gastric juice and food that leaves the stomach to enter the small intestine is called chyme.\n",
      "- Human Anatomy and Physiology 329  duct. Most persons also have an additional smaller duct that opens into the duodenum.  Because they arte usually confined to proper channels, pancreatic enzymes do not damage body tissues. However, if the bile ducts become blocked, pancreatic enzymes back up into the pancreas. Also, in some cases of gallbladder disease, disease, infection may extend to the pancreas and cause abnormal activation of the pancreatic enzymes. In either circumstance, the pancreas suffers destruction by its own juice, and the outcome can be fatal; this condition is known as acute pancreatitis.  The pancreas also functions as an endocrine gland, producing the hormones insulin and glucagons that regulate sugar metabolism. These secretions of the islets cells are released directly into the blood.  Digestion and Absorption of Carbohydrates, Fats, and Proteins   Digestion  Digestion, a complex process that occurs in the alimentary canal, consists of physical and chemical changes that prepare food for absorption. Mechanical digestion breaks food into tiny particles, mixes them with digestive juices, moves them\n",
      "        \n",
      "Relevant passages: <extract relevant passages from the context here>\n",
      "        User query: what are enzymes\n",
      "        Answer:<end_of_turn>\n",
      "<start_of_turn>model\n",
      "\n"
     ]
    }
   ],
   "source": [
    "def prompt_formatter(query: str,\n",
    "                     context_items: list[dict]) -> str:\n",
    "    context = \"- \" + \"\\n- \".join([item[\"chunk_sentences\"] for item in context_items])\n",
    "\n",
    "    base_prompt = \"\"\"\n",
    "        Based on the following context items, please answer the query.\n",
    "        Give yourself room to think by extracting relevant passages from the context before answering the query.\n",
    "        Don't return the thinking, only return the answer.\n",
    "        Make sure your answers are as explanatory as possible.\n",
    "        \\nNow use the following context items to answer the user query:\n",
    "        {context}\n",
    "        \\nRelevant passages: <extract relevant passages from the context here>\n",
    "        User query: {query}\n",
    "        Answer:\n",
    "    \"\"\" \n",
    "    base_prompt = base_prompt.format(context=context,\n",
    "                                     query=query)\n",
    "\n",
    "    dialogue_template = [\n",
    "        {\"role\": \"user\",\n",
    "         \"content\": base_prompt}\n",
    "    ]\n",
    "\n",
    "    prompt = tokenizer.apply_chat_template(conversation=dialogue_template,\n",
    "                                           tokenize=False,\n",
    "                                           add_generation_prompt=True)\n",
    "    \n",
    "    return prompt\n",
    "\n",
    "scores, indices = retriever(query=query, embeddings=embeddings)\n",
    "\n",
    "context_items = [pages_and_chunks[i] for i in indices]\n",
    "\n",
    "prompt = prompt_formatter(query=query, context_items=context_items)\n",
    "print(prompt)"
   ]
  },
  {
   "cell_type": "code",
   "execution_count": 95,
   "metadata": {},
   "outputs": [
    {
     "data": {
      "text/plain": [
       "\"<bos><start_of_turn>user\\nBased on the following context items, please answer the query.\\n        Give yourself room to think by extracting relevant passages from the context before answering the query.\\n        Don't return the thinking, only return the answer.\\n        Make sure your answers are as explanatory as possible.\\n        \\nNow use the following context items to answer the user query:\\n        - Human Anatomy and Physiology 316  The Mouth  The mouth, also called the oral cavity, is where a substance begins its travels through the digestive tract (Figure 11-4). The mouth has three digestive functions:  1. To receive food, a process called ingestion  2. To prepare food for digestion  3. To begin the digestion of starch. In to this space projects a muscular organ, the tongue, which is used for chewing and swallowing, and is one of the principal organs of speech. The tongue has on its surface a number of special organs, called taste buds, by means of which taste sensations (bitter, sweet, sour, or salty) can be differentiated.  The oral cavity also contains the teeth. A child between 2 and 6 years of age has 20 teeth; an adult with a complete set of teeth has 32. Among these, the cutting teeth, or incisors, occupy the front part of the oral cavity, whereas the lager grinding teeth, the molars, are in the back.\\n- Human Anatomy and Physiology 319              Figure 11-5. A molar tooth (Source: Carola, R., Harley,J. P., Noback R. C., (1992), Human anatomy and physiology, Mc Graw hill inc, New York, 2 nd ed,)  The Salivary Glands  While food in the mouth, it is mixed with saliva, one purpose of which is to moisten the food and facilitate the processes of chewing, or mastication, and swallowing, or deglutition. Saliva also helps keep the teeth and mouth clean and reduce bacterial growth.  This watery mixture contains mucus and an enzyme called salivary amylase, which begins the digestive process by converting starch to sugar. It is manufactured mainly by three pairs of glands that function as accessory organs:\\n- The soft palate is tissue that forms the back of the roof of the oral cavity. From it hangs a soft, fleshy, V -shaped mass called the uvula.  In swallowing, a small portion of chewed food mixed with saliva, called a bolus, is pushed by the tongue into the pharynx, swallowing occurs rapidly by an involuntary reflex action. At the same time, the soft palate and uvula are raised to prevent food and liquid from entering the nasal cavity, and the tongue is raised to seal the back of the oral cavity. The entrance of the trachea is guarded during swallowing by a leaf-shaped cartilage, the epiglottis, which covers the opening of the larynx. The swallowed food is then moved by peristalsis\\n- Human Anatomy and Physiology 296  The sinuses are small cavities lined with mucous membrane in the bones of the skull. The sinuses communicate with the nasal cavities, and they are highly susceptible to infection.              Figure 10-1. Diagram of external respiration showing the diffusion of gas molecules through the cell membranes and throughout the capillary blood and air in the alveolus. (From Memmler and Wood: The Human Body in Health and Disease, ed 6, Philadelphia, 1987, J. B. Lippincott co.)  The Pharynx The muscular pharynx (throat) carries air into the respiratory tract and foods and liquids into the digestive system. The upper portion located immediately behind the nasal cavity is called the nasopharynx , the middle section located behind the mouth is called the oropharynx, and the lowest portion is\\n- Human Anatomy and Physiology 76   Table 5.4: Description and function of Facial bones (source: Carola, R., Harley,J. P., Noback R. C., (1992), Human anatomy and physiology, Mc Graw hill inc, New York, 2nd ed, pp 171)    Bone  Descriptions and function Inferior nasal  Lateral walls of nasal cavities, below superior and middle  Conchii (2)  conchae of Ethmoid bone. Thin, cancellous, shaped like curved leaves. Lacrimal (2) Medial wall of orbit, behind frontal process of maxilla. Small, thin, rectangular; contains depression for lacrimal sacs, nasolacrimal tear duct. Mandible (1) Lower jaw, extending from chin to mandibular fossa of temporal bone. Largest, strongest facial bone; horseshoe-shaped horizontal bony with two perpendicular rami; contains tooth sockets, coronoid, condylar, alveolar processes, mental foramina. forms lower jaw, part of temporomandibular joint; site of attachment for muscles. Maxillae (2) Upper jaw and anterior part of hard palate. Made up of  zygomatic, frontal, palatine, alveolar processes; contain infraorbital foramina, maxillary sinuses, tooth sockets. Form upper jaw, front of hard palate, part of eye sockets.\\n        User query: What is the functions of the mouth?\\n        Answer:<end_of_turn>\\n<start_of_turn>model\\n\""
      ]
     },
     "execution_count": 95,
     "metadata": {},
     "output_type": "execute_result"
    }
   ],
   "source": [
    "def prompt_formatter_chroma(query:str , context_items: list[list]):\n",
    "    context = \"- \" + \"\\n- \".join([item for sublist in context_items for item in sublist])\n",
    "    base_prompt = \"\"\"\n",
    "        Based on the following context items, please answer the query.\n",
    "        Give yourself room to think by extracting relevant passages from the context before answering the query.\n",
    "        Don't return the thinking, only return the answer.\n",
    "        Make sure your answers are as explanatory as possible.\n",
    "        \\nNow use the following context items to answer the user query:\n",
    "        {context}\n",
    "        User query: {query}\n",
    "        Answer:\n",
    "    \"\"\" \n",
    "    base_prompt = base_prompt.format(context=context,\n",
    "                                     query=query)\n",
    "\n",
    "    dialogue_template = [\n",
    "        {\"role\": \"user\",\n",
    "         \"content\": base_prompt}\n",
    "    ]\n",
    "\n",
    "    prompt = tokenizer.apply_chat_template(conversation=dialogue_template,\n",
    "                                           tokenize=False,\n",
    "                                           add_generation_prompt=True)\n",
    "    \n",
    "    return prompt\n",
    "\n",
    "context_items = chroma_retreiver(query)\n",
    "\n",
    "prompt_formatter_chroma(query, context_items)"
   ]
  },
  {
   "cell_type": "code",
   "execution_count": 96,
   "metadata": {},
   "outputs": [],
   "source": [
    "def ask(query: str,\n",
    "        temperature: float=0.7,\n",
    "        max_new_tokens:int=256,\n",
    "        ):\n",
    "\n",
    "    # scores, indices = retriever(query=query, embeddings=embeddings)\n",
    "\n",
    "    # context_items = [pages_and_chunks[i] for i in indices] \n",
    "\n",
    "    context_items_chroma = chroma_retreiver(query)\n",
    "\n",
    "    # for i, item in enumerate(context_items): \n",
    "    #     item[\"score\"] = scores[i].cpu()\n",
    "\n",
    "    # prompt = prompt_formatter(query=query,\n",
    "    #                           context_items=context_items)\n",
    "    \n",
    "    prompt = prompt_formatter_chroma(query=query, context_items=context_items_chroma)\n",
    "\n",
    "    input_ids = tokenizer(prompt, return_tensors=\"pt\").to(\"cuda\")\n",
    "\n",
    "    outputs = llm_model.generate(**input_ids, temperature=temperature, do_sample=True, max_new_tokens=max_new_tokens)\n",
    "\n",
    "    output_text = tokenizer.decode(outputs[0])\n",
    "\n",
    " \n",
    "    output_text = output_text.replace(prompt, \"\").replace(\"<bos>\", \"\").replace(\"<eos>\", \"\")\n",
    "\n",
    "    return output_text, context_items"
   ]
  },
  {
   "cell_type": "code",
   "execution_count": 97,
   "metadata": {},
   "outputs": [
    {
     "data": {
      "text/plain": [
       "(\"Sure, here's the answer to the user's query:\\n\\nThe mouth serves three main functions in the digestive tract:\\n\\n1. **Receiving food:** The mouth receives food through the process of ingestion.\\n2. **Preparing food for digestion:** The mouth prepares food by mixing it with saliva to moisten it and facilitate chewing and swallowing.\\n3. **Beginning the digestion of starch:** The mouth is the first part of the digestive tract to break down starches into simpler molecules that can be absorbed by the body.\",\n",
       " [['Human Anatomy and Physiology 316  The Mouth  The mouth, also called the oral cavity, is where a substance begins its travels through the digestive tract (Figure 11-4). The mouth has three digestive functions:  1. To receive food, a process called ingestion  2. To prepare food for digestion  3. To begin the digestion of starch. In to this space projects a muscular organ, the tongue, which is used for chewing and swallowing, and is one of the principal organs of speech. The tongue has on its surface a number of special organs, called taste buds, by means of which taste sensations (bitter, sweet, sour, or salty) can be differentiated.  The oral cavity also contains the teeth. A child between 2 and 6 years of age has 20 teeth; an adult with a complete set of teeth has 32. Among these, the cutting teeth, or incisors, occupy the front part of the oral cavity, whereas the lager grinding teeth, the molars, are in the back.',\n",
       "   'Human Anatomy and Physiology 319              Figure 11-5. A molar tooth (Source: Carola, R., Harley,J. P., Noback R. C., (1992), Human anatomy and physiology, Mc Graw hill inc, New York, 2 nd ed,)  The Salivary Glands  While food in the mouth, it is mixed with saliva, one purpose of which is to moisten the food and facilitate the processes of chewing, or mastication, and swallowing, or deglutition. Saliva also helps keep the teeth and mouth clean and reduce bacterial growth.  This watery mixture contains mucus and an enzyme called salivary amylase, which begins the digestive process by converting starch to sugar. It is manufactured mainly by three pairs of glands that function as accessory organs:',\n",
       "   'The soft palate is tissue that forms the back of the roof of the oral cavity. From it hangs a soft, fleshy, V -shaped mass called the uvula.  In swallowing, a small portion of chewed food mixed with saliva, called a bolus, is pushed by the tongue into the pharynx, swallowing occurs rapidly by an involuntary reflex action. At the same time, the soft palate and uvula are raised to prevent food and liquid from entering the nasal cavity, and the tongue is raised to seal the back of the oral cavity. The entrance of the trachea is guarded during swallowing by a leaf-shaped cartilage, the epiglottis, which covers the opening of the larynx. The swallowed food is then moved by peristalsis',\n",
       "   'Human Anatomy and Physiology 296  The sinuses are small cavities lined with mucous membrane in the bones of the skull. The sinuses communicate with the nasal cavities, and they are highly susceptible to infection.              Figure 10-1. Diagram of external respiration showing the diffusion of gas molecules through the cell membranes and throughout the capillary blood and air in the alveolus. (From Memmler and Wood: The Human Body in Health and Disease, ed 6, Philadelphia, 1987, J. B. Lippincott co.)  The Pharynx The muscular pharynx (throat) carries air into the respiratory tract and foods and liquids into the digestive system. The upper portion located immediately behind the nasal cavity is called the nasopharynx , the middle section located behind the mouth is called the oropharynx, and the lowest portion is',\n",
       "   'Human Anatomy and Physiology 76   Table 5.4: Description and function of Facial bones (source: Carola, R., Harley,J. P., Noback R. C., (1992), Human anatomy and physiology, Mc Graw hill inc, New York, 2nd ed, pp 171)    Bone  Descriptions and function Inferior nasal  Lateral walls of nasal cavities, below superior and middle  Conchii (2)  conchae of Ethmoid bone. Thin, cancellous, shaped like curved leaves. Lacrimal (2) Medial wall of orbit, behind frontal process of maxilla. Small, thin, rectangular; contains depression for lacrimal sacs, nasolacrimal tear duct. Mandible (1) Lower jaw, extending from chin to mandibular fossa of temporal bone. Largest, strongest facial bone; horseshoe-shaped horizontal bony with two perpendicular rami; contains tooth sockets, coronoid, condylar, alveolar processes, mental foramina. forms lower jaw, part of temporomandibular joint; site of attachment for muscles. Maxillae (2) Upper jaw and anterior part of hard palate. Made up of  zygomatic, frontal, palatine, alveolar processes; contain infraorbital foramina, maxillary sinuses, tooth sockets. Form upper jaw, front of hard palate, part of eye sockets.']])"
      ]
     },
     "execution_count": 97,
     "metadata": {},
     "output_type": "execute_result"
    }
   ],
   "source": [
    "ask(query=query,\n",
    "    temperature=0.2)"
   ]
  },
  {
   "cell_type": "code",
   "execution_count": null,
   "metadata": {},
   "outputs": [],
   "source": []
  }
 ],
 "metadata": {
  "kernelspec": {
   "display_name": "Python 3 (ipykernel)",
   "language": "python",
   "name": "python3"
  },
  "language_info": {
   "codemirror_mode": {
    "name": "ipython",
    "version": 3
   },
   "file_extension": ".py",
   "mimetype": "text/x-python",
   "name": "python",
   "nbconvert_exporter": "python",
   "pygments_lexer": "ipython3",
   "version": "3.11.7"
  }
 },
 "nbformat": 4,
 "nbformat_minor": 4
}
